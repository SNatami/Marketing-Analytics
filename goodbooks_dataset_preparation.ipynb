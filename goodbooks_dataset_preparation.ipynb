{
 "cells": [
  {
   "cell_type": "markdown",
   "metadata": {},
   "source": [
    "# Good Books Dataset Preparation"
   ]
  },
  {
   "cell_type": "markdown",
   "metadata": {},
   "source": [
    "Link: https://www.kaggle.com/zygmunt/goodbooks-10k"
   ]
  },
  {
   "cell_type": "markdown",
   "metadata": {},
   "source": [
    "### Import Library"
   ]
  },
  {
   "cell_type": "code",
   "execution_count": 198,
   "metadata": {},
   "outputs": [],
   "source": [
    "import pandas as pd #data wrangling\n",
    "import re #regex  -> https://regex101.com/"
   ]
  },
  {
   "cell_type": "markdown",
   "metadata": {},
   "source": [
    "### Import Dataset"
   ]
  },
  {
   "cell_type": "code",
   "execution_count": 199,
   "metadata": {},
   "outputs": [],
   "source": [
    "# import dataset\n",
    "books = pd.read_csv('dataset/books.csv')\n",
    "book_tags = pd.read_csv('dataset/book_tags.csv')\n",
    "tags = pd.read_csv('dataset/tags.csv')"
   ]
  },
  {
   "cell_type": "code",
   "execution_count": 200,
   "metadata": {},
   "outputs": [
    {
     "name": "stdout",
     "output_type": "stream",
     "text": [
      "Books dataset contains: 10000 rows and 23 columns.\n",
      "Book Tags dataset contains: 999912 rows and 3 columns.\n",
      "Tags dataset contains: 34252 rows and 2 columns.\n"
     ]
    }
   ],
   "source": [
    "print('Books dataset contains:',books.shape[0],'rows and',books.shape[1],'columns.')\n",
    "print('Book Tags dataset contains:',book_tags.shape[0],'rows and',book_tags.shape[1],'columns.')\n",
    "print('Tags dataset contains:',tags.shape[0],'rows and',tags.shape[1],'columns.')"
   ]
  },
  {
   "cell_type": "markdown",
   "metadata": {},
   "source": [
    "### Data Cleansing"
   ]
  },
  {
   "cell_type": "code",
   "execution_count": 210,
   "metadata": {},
   "outputs": [],
   "source": [
    "#Copy Tags dataset\n",
    "tags_copy = tags.copy()"
   ]
  },
  {
   "cell_type": "code",
   "execution_count": 211,
   "metadata": {},
   "outputs": [],
   "source": [
    "#lowercase\n",
    "tags_copy = tags_copy.applymap(lambda s: s.lower() if type(s) == str else s)"
   ]
  },
  {
   "cell_type": "code",
   "execution_count": 212,
   "metadata": {},
   "outputs": [
    {
     "name": "stderr",
     "output_type": "stream",
     "text": [
      "D:\\Anaconda3\\lib\\site-packages\\ipykernel_launcher.py:3: SettingWithCopyWarning: \n",
      "A value is trying to be set on a copy of a slice from a DataFrame\n",
      "\n",
      "See the caveats in the documentation: http://pandas.pydata.org/pandas-docs/stable/user_guide/indexing.html#returning-a-view-versus-a-copy\n",
      "  This is separate from the ipykernel package so we can avoid doing imports until\n"
     ]
    }
   ],
   "source": [
    "# remove special characters using regex\n",
    "for i in range(len(tags_copy['tag_name'])):\n",
    "    tags_copy['tag_name'][i] = re.sub(r\"[^a-z]\", \" \", tags_copy['tag_name'][i])"
   ]
  },
  {
   "cell_type": "code",
   "execution_count": 213,
   "metadata": {},
   "outputs": [],
   "source": [
    "# trim string    \n",
    "tags_copy = tags_copy.applymap(lambda s: s.strip() if type(s) == str else s)    "
   ]
  },
  {
   "cell_type": "code",
   "execution_count": 214,
   "metadata": {},
   "outputs": [],
   "source": [
    "#filter empty string\n",
    "tags_copy = tags_copy[tags_copy.tag_name != '']\n",
    "\n",
    "#reset index\n",
    "tags_copy.reset_index()\n",
    "tags_copy = tags_copy[['tag_id','tag_name']]"
   ]
  },
  {
   "cell_type": "code",
   "execution_count": 215,
   "metadata": {},
   "outputs": [
    {
     "name": "stdout",
     "output_type": "stream",
     "text": [
      "Tags dataset after cleansing using regex: 33105 rows, 2 columns.\n"
     ]
    }
   ],
   "source": [
    "print('Tags dataset after cleansing using regex:',tags_copy.shape[0],'rows,',tags_copy.shape[1],'columns.')"
   ]
  },
  {
   "cell_type": "markdown",
   "metadata": {},
   "source": [
    "#### Filtering unnecessary tags"
   ]
  },
  {
   "cell_type": "code",
   "execution_count": 216,
   "metadata": {},
   "outputs": [],
   "source": [
    "#tags that will be keep that indicates genre\n",
    "included_tags = [\"art\", \"biography\", \"business\", \n",
    "                 \"chick lit\", \"childrens\", \"christian\",\n",
    "                 \"classics\", \"comics\", \"contemporary\", \n",
    "                 \"cookbooks\", \"crime\", \"ebooks\", \n",
    "                 \"fantasy\", \"fiction\", \"gay and lesbian\", \n",
    "                 \"graphic novels\", \"historical fiction\", \"history\", \n",
    "                 \"horror\", \"humor and comedy\", \"manga\", \n",
    "                 \"memoir\", \"music\", \"mystery\", \n",
    "                 \"nonfiction\", \"paranormal\", \"philosophy\", \n",
    "                 \"poetry\", \"psychology\", \"religion\", \n",
    "                 \"romance\", \"science\", \"science fiction\", \n",
    "                 \"self help\", \"suspense\", \"spirituality\", \n",
    "                 \"sports\", \"thriller\", \"travel\", \n",
    "                 \"young adult\"]"
   ]
  },
  {
   "cell_type": "code",
   "execution_count": 217,
   "metadata": {},
   "outputs": [],
   "source": [
    "#temporary list\n",
    "new_list_ids = []\n",
    "new_list_names = []"
   ]
  },
  {
   "cell_type": "code",
   "execution_count": 218,
   "metadata": {},
   "outputs": [],
   "source": [
    "#filter process using for loop\n",
    "for i in range(len(tags_copy['tag_name'])):\n",
    "    for i_t in included_tags:\n",
    "        if i_t in tags_copy['tag_name'].iloc[i]:\n",
    "            tag_ids = new_list_ids.append(tags_copy['tag_id'].iloc[i])\n",
    "            tag_names = new_list_names.append(i_t)"
   ]
  },
  {
   "cell_type": "code",
   "execution_count": 219,
   "metadata": {},
   "outputs": [
    {
     "name": "stdout",
     "output_type": "stream",
     "text": [
      "New tags dataset in final form contains: 5186 rows, 2 columns.\n"
     ]
    }
   ],
   "source": [
    "#after filtering process above, we convert that list to dataframe\n",
    "new_tags_copy = pd.DataFrame({\"tag_id\" :new_list_ids, \"tag_name\" : new_list_names})\n",
    "print('New tags dataset in final form contains:',new_tags_copy.shape[0],'rows,',new_tags_copy.shape[1],'columns.')"
   ]
  },
  {
   "cell_type": "markdown",
   "metadata": {},
   "source": [
    "### Join the data"
   ]
  },
  {
   "cell_type": "markdown",
   "metadata": {},
   "source": [
    "Book Tag --join-- Tag"
   ]
  },
  {
   "cell_type": "code",
   "execution_count": 230,
   "metadata": {},
   "outputs": [
    {
     "name": "stdout",
     "output_type": "stream",
     "text": [
      "New book tags dataset after joined with tag dataset contains: 262592 rows, 4 columns.\n"
     ]
    }
   ],
   "source": [
    "#join final tag dataset to book tag dataset\n",
    "new_book_tag = book_tags.merge(new_tags_copy, how='left', left_on='tag_id', right_on='tag_id')\n",
    "\n",
    "#drop any missing joins\n",
    "new_book_tag = new_book_tag[new_book_tag['tag_name'].notnull()]\n",
    "\n",
    "print('New book tags dataset after joined with tag dataset contains:',new_book_tag.shape[0],'rows,',new_book_tag.shape[1],'columns.')"
   ]
  },
  {
   "cell_type": "markdown",
   "metadata": {},
   "source": [
    "#### Filter any books that had more than one tag(keep the highest count)"
   ]
  },
  {
   "cell_type": "code",
   "execution_count": 231,
   "metadata": {},
   "outputs": [
    {
     "data": {
      "text/html": [
       "<div>\n",
       "<style scoped>\n",
       "    .dataframe tbody tr th:only-of-type {\n",
       "        vertical-align: middle;\n",
       "    }\n",
       "\n",
       "    .dataframe tbody tr th {\n",
       "        vertical-align: top;\n",
       "    }\n",
       "\n",
       "    .dataframe thead th {\n",
       "        text-align: right;\n",
       "    }\n",
       "</style>\n",
       "<table border=\"1\" class=\"dataframe\">\n",
       "  <thead>\n",
       "    <tr style=\"text-align: right;\">\n",
       "      <th></th>\n",
       "      <th>goodreads_book_id</th>\n",
       "      <th>tag_id</th>\n",
       "      <th>count</th>\n",
       "      <th>tag_name</th>\n",
       "    </tr>\n",
       "  </thead>\n",
       "  <tbody>\n",
       "    <tr>\n",
       "      <th>0</th>\n",
       "      <td>1</td>\n",
       "      <td>11305</td>\n",
       "      <td>37174</td>\n",
       "      <td>fantasy</td>\n",
       "    </tr>\n",
       "    <tr>\n",
       "      <th>1</th>\n",
       "      <td>2</td>\n",
       "      <td>11305</td>\n",
       "      <td>3441</td>\n",
       "      <td>fantasy</td>\n",
       "    </tr>\n",
       "    <tr>\n",
       "      <th>2</th>\n",
       "      <td>3</td>\n",
       "      <td>11305</td>\n",
       "      <td>47478</td>\n",
       "      <td>fantasy</td>\n",
       "    </tr>\n",
       "    <tr>\n",
       "      <th>3</th>\n",
       "      <td>5</td>\n",
       "      <td>11305</td>\n",
       "      <td>39330</td>\n",
       "      <td>fantasy</td>\n",
       "    </tr>\n",
       "    <tr>\n",
       "      <th>4</th>\n",
       "      <td>6</td>\n",
       "      <td>11305</td>\n",
       "      <td>38378</td>\n",
       "      <td>fantasy</td>\n",
       "    </tr>\n",
       "  </tbody>\n",
       "</table>\n",
       "</div>"
      ],
      "text/plain": [
       "   goodreads_book_id  tag_id  count tag_name\n",
       "0                  1   11305  37174  fantasy\n",
       "1                  2   11305   3441  fantasy\n",
       "2                  3   11305  47478  fantasy\n",
       "3                  5   11305  39330  fantasy\n",
       "4                  6   11305  38378  fantasy"
      ]
     },
     "execution_count": 231,
     "metadata": {},
     "output_type": "execute_result"
    }
   ],
   "source": [
    "#drop duplicates, but keep the one which got highest count\n",
    "new_book_tag = new_book_tag.sort_values(by=[\"goodreads_book_id\", 'count'], ascending=True).drop_duplicates(subset=[\"goodreads_book_id\"],keep='last')\n",
    "\n",
    "#reset index\n",
    "new_book_tag = new_book_tag.reset_index()\n",
    "new_book_tag = new_book_tag[['goodreads_book_id','tag_id','count','tag_name']]\n",
    "\n",
    "new_book_tag.head()"
   ]
  },
  {
   "cell_type": "markdown",
   "metadata": {},
   "source": [
    "  "
   ]
  },
  {
   "cell_type": "markdown",
   "metadata": {},
   "source": [
    "  "
   ]
  },
  {
   "cell_type": "markdown",
   "metadata": {},
   "source": [
    "Books --join-- New Book Tag"
   ]
  },
  {
   "cell_type": "code",
   "execution_count": 262,
   "metadata": {
    "scrolled": true
   },
   "outputs": [
    {
     "name": "stdout",
     "output_type": "stream",
     "text": [
      "New book tags dataset after joined with tag dataset contains: 10000 rows, 4 columns.\n"
     ]
    }
   ],
   "source": [
    "#join final tag dataset to book tag dataset\n",
    "new_books = books.merge(new_book_tag, how='left', left_on='best_book_id', right_on='goodreads_book_id')\n",
    "\n",
    "#drop any missing joins\n",
    "new_books = new_books[new_books['goodreads_book_id'].notnull()]\n",
    "\n",
    "print('New book tags dataset after joined with tag dataset contains:',new_book_tag.shape[0],'rows,',new_book_tag.shape[1],'columns.')"
   ]
  },
  {
   "cell_type": "code",
   "execution_count": 263,
   "metadata": {},
   "outputs": [
    {
     "data": {
      "text/html": [
       "<div>\n",
       "<style scoped>\n",
       "    .dataframe tbody tr th:only-of-type {\n",
       "        vertical-align: middle;\n",
       "    }\n",
       "\n",
       "    .dataframe tbody tr th {\n",
       "        vertical-align: top;\n",
       "    }\n",
       "\n",
       "    .dataframe thead th {\n",
       "        text-align: right;\n",
       "    }\n",
       "</style>\n",
       "<table border=\"1\" class=\"dataframe\">\n",
       "  <thead>\n",
       "    <tr style=\"text-align: right;\">\n",
       "      <th></th>\n",
       "      <th>id</th>\n",
       "      <th>book_id</th>\n",
       "      <th>work_id</th>\n",
       "      <th>books_count</th>\n",
       "      <th>authors</th>\n",
       "      <th>original_publication_year</th>\n",
       "      <th>original_title</th>\n",
       "      <th>title</th>\n",
       "      <th>language_code</th>\n",
       "      <th>average_rating</th>\n",
       "      <th>...</th>\n",
       "      <th>ratings_1</th>\n",
       "      <th>ratings_2</th>\n",
       "      <th>ratings_3</th>\n",
       "      <th>ratings_4</th>\n",
       "      <th>ratings_5</th>\n",
       "      <th>image_url</th>\n",
       "      <th>small_image_url</th>\n",
       "      <th>tag_id</th>\n",
       "      <th>count</th>\n",
       "      <th>tag_name</th>\n",
       "    </tr>\n",
       "  </thead>\n",
       "  <tbody>\n",
       "    <tr>\n",
       "      <th>0</th>\n",
       "      <td>1</td>\n",
       "      <td>2767052</td>\n",
       "      <td>2792775</td>\n",
       "      <td>272</td>\n",
       "      <td>Suzanne Collins</td>\n",
       "      <td>2008.0</td>\n",
       "      <td>The Hunger Games</td>\n",
       "      <td>The Hunger Games (The Hunger Games, #1)</td>\n",
       "      <td>eng</td>\n",
       "      <td>4.34</td>\n",
       "      <td>...</td>\n",
       "      <td>66715</td>\n",
       "      <td>127936</td>\n",
       "      <td>560092</td>\n",
       "      <td>1481305</td>\n",
       "      <td>2706317</td>\n",
       "      <td>https://images.gr-assets.com/books/1447303603m...</td>\n",
       "      <td>https://images.gr-assets.com/books/1447303603s...</td>\n",
       "      <td>33114.0</td>\n",
       "      <td>25968.0</td>\n",
       "      <td>young adult</td>\n",
       "    </tr>\n",
       "    <tr>\n",
       "      <th>1</th>\n",
       "      <td>2</td>\n",
       "      <td>3</td>\n",
       "      <td>4640799</td>\n",
       "      <td>491</td>\n",
       "      <td>J.K. Rowling, Mary GrandPré</td>\n",
       "      <td>1997.0</td>\n",
       "      <td>Harry Potter and the Philosopher's Stone</td>\n",
       "      <td>Harry Potter and the Sorcerer's Stone (Harry P...</td>\n",
       "      <td>eng</td>\n",
       "      <td>4.44</td>\n",
       "      <td>...</td>\n",
       "      <td>75504</td>\n",
       "      <td>101676</td>\n",
       "      <td>455024</td>\n",
       "      <td>1156318</td>\n",
       "      <td>3011543</td>\n",
       "      <td>https://images.gr-assets.com/books/1474154022m...</td>\n",
       "      <td>https://images.gr-assets.com/books/1474154022s...</td>\n",
       "      <td>11305.0</td>\n",
       "      <td>47478.0</td>\n",
       "      <td>fantasy</td>\n",
       "    </tr>\n",
       "    <tr>\n",
       "      <th>2</th>\n",
       "      <td>3</td>\n",
       "      <td>41865</td>\n",
       "      <td>3212258</td>\n",
       "      <td>226</td>\n",
       "      <td>Stephenie Meyer</td>\n",
       "      <td>2005.0</td>\n",
       "      <td>Twilight</td>\n",
       "      <td>Twilight (Twilight, #1)</td>\n",
       "      <td>en-US</td>\n",
       "      <td>3.57</td>\n",
       "      <td>...</td>\n",
       "      <td>456191</td>\n",
       "      <td>436802</td>\n",
       "      <td>793319</td>\n",
       "      <td>875073</td>\n",
       "      <td>1355439</td>\n",
       "      <td>https://images.gr-assets.com/books/1361039443m...</td>\n",
       "      <td>https://images.gr-assets.com/books/1361039443s...</td>\n",
       "      <td>33114.0</td>\n",
       "      <td>16446.0</td>\n",
       "      <td>young adult</td>\n",
       "    </tr>\n",
       "    <tr>\n",
       "      <th>3</th>\n",
       "      <td>4</td>\n",
       "      <td>2657</td>\n",
       "      <td>3275794</td>\n",
       "      <td>487</td>\n",
       "      <td>Harper Lee</td>\n",
       "      <td>1960.0</td>\n",
       "      <td>To Kill a Mockingbird</td>\n",
       "      <td>To Kill a Mockingbird</td>\n",
       "      <td>eng</td>\n",
       "      <td>4.25</td>\n",
       "      <td>...</td>\n",
       "      <td>60427</td>\n",
       "      <td>117415</td>\n",
       "      <td>446835</td>\n",
       "      <td>1001952</td>\n",
       "      <td>1714267</td>\n",
       "      <td>https://images.gr-assets.com/books/1361975680m...</td>\n",
       "      <td>https://images.gr-assets.com/books/1361975680s...</td>\n",
       "      <td>7457.0</td>\n",
       "      <td>31068.0</td>\n",
       "      <td>classics</td>\n",
       "    </tr>\n",
       "    <tr>\n",
       "      <th>4</th>\n",
       "      <td>5</td>\n",
       "      <td>4671</td>\n",
       "      <td>245494</td>\n",
       "      <td>1356</td>\n",
       "      <td>F. Scott Fitzgerald</td>\n",
       "      <td>1925.0</td>\n",
       "      <td>The Great Gatsby</td>\n",
       "      <td>The Great Gatsby</td>\n",
       "      <td>eng</td>\n",
       "      <td>3.89</td>\n",
       "      <td>...</td>\n",
       "      <td>86236</td>\n",
       "      <td>197621</td>\n",
       "      <td>606158</td>\n",
       "      <td>936012</td>\n",
       "      <td>947718</td>\n",
       "      <td>https://images.gr-assets.com/books/1490528560m...</td>\n",
       "      <td>https://images.gr-assets.com/books/1490528560s...</td>\n",
       "      <td>7457.0</td>\n",
       "      <td>32061.0</td>\n",
       "      <td>classics</td>\n",
       "    </tr>\n",
       "  </tbody>\n",
       "</table>\n",
       "<p>5 rows × 23 columns</p>\n",
       "</div>"
      ],
      "text/plain": [
       "   id  book_id  work_id  books_count                      authors  \\\n",
       "0   1  2767052  2792775          272              Suzanne Collins   \n",
       "1   2        3  4640799          491  J.K. Rowling, Mary GrandPré   \n",
       "2   3    41865  3212258          226              Stephenie Meyer   \n",
       "3   4     2657  3275794          487                   Harper Lee   \n",
       "4   5     4671   245494         1356          F. Scott Fitzgerald   \n",
       "\n",
       "   original_publication_year                            original_title  \\\n",
       "0                     2008.0                          The Hunger Games   \n",
       "1                     1997.0  Harry Potter and the Philosopher's Stone   \n",
       "2                     2005.0                                  Twilight   \n",
       "3                     1960.0                     To Kill a Mockingbird   \n",
       "4                     1925.0                          The Great Gatsby   \n",
       "\n",
       "                                               title language_code  \\\n",
       "0            The Hunger Games (The Hunger Games, #1)           eng   \n",
       "1  Harry Potter and the Sorcerer's Stone (Harry P...           eng   \n",
       "2                            Twilight (Twilight, #1)         en-US   \n",
       "3                              To Kill a Mockingbird           eng   \n",
       "4                                   The Great Gatsby           eng   \n",
       "\n",
       "   average_rating  ...  ratings_1  ratings_2  ratings_3  ratings_4  ratings_5  \\\n",
       "0            4.34  ...      66715     127936     560092    1481305    2706317   \n",
       "1            4.44  ...      75504     101676     455024    1156318    3011543   \n",
       "2            3.57  ...     456191     436802     793319     875073    1355439   \n",
       "3            4.25  ...      60427     117415     446835    1001952    1714267   \n",
       "4            3.89  ...      86236     197621     606158     936012     947718   \n",
       "\n",
       "                                           image_url  \\\n",
       "0  https://images.gr-assets.com/books/1447303603m...   \n",
       "1  https://images.gr-assets.com/books/1474154022m...   \n",
       "2  https://images.gr-assets.com/books/1361039443m...   \n",
       "3  https://images.gr-assets.com/books/1361975680m...   \n",
       "4  https://images.gr-assets.com/books/1490528560m...   \n",
       "\n",
       "                                     small_image_url   tag_id    count  \\\n",
       "0  https://images.gr-assets.com/books/1447303603s...  33114.0  25968.0   \n",
       "1  https://images.gr-assets.com/books/1474154022s...  11305.0  47478.0   \n",
       "2  https://images.gr-assets.com/books/1361039443s...  33114.0  16446.0   \n",
       "3  https://images.gr-assets.com/books/1361975680s...   7457.0  31068.0   \n",
       "4  https://images.gr-assets.com/books/1490528560s...   7457.0  32061.0   \n",
       "\n",
       "      tag_name  \n",
       "0  young adult  \n",
       "1      fantasy  \n",
       "2  young adult  \n",
       "3     classics  \n",
       "4     classics  \n",
       "\n",
       "[5 rows x 23 columns]"
      ]
     },
     "execution_count": 263,
     "metadata": {},
     "output_type": "execute_result"
    }
   ],
   "source": [
    "new_books.drop(['best_book_id','goodreads_book_id','isbn','isbn13'], axis = 1, inplace=True)\n",
    "new_books.head()"
   ]
  },
  {
   "cell_type": "code",
   "execution_count": 266,
   "metadata": {},
   "outputs": [],
   "source": [
    "# export new dataset to csv file\n",
    "new_books.to_csv('new_books.csv', index=False)\n",
    "new_book_tag.to_csv('new_book_tag.csv', index=False)\n",
    "new_tags_copy.to_csv('new_tags.csv', index=False)"
   ]
  }
 ],
 "metadata": {
  "kernelspec": {
   "display_name": "Python 3",
   "language": "python",
   "name": "python3"
  },
  "language_info": {
   "codemirror_mode": {
    "name": "ipython",
    "version": 3
   },
   "file_extension": ".py",
   "mimetype": "text/x-python",
   "name": "python",
   "nbconvert_exporter": "python",
   "pygments_lexer": "ipython3",
   "version": "3.7.4"
  }
 },
 "nbformat": 4,
 "nbformat_minor": 2
}
